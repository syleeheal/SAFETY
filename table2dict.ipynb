{
 "cells": [
  {
   "cell_type": "code",
   "execution_count": 3,
   "metadata": {
    "tags": []
   },
   "outputs": [],
   "source": [
    "import os\n",
    "from pathlib import Path\n",
    "import pandas as pd\n",
    "import numpy as np\n",
    "import pickle\n",
    "import zipfile\n",
    "import shutil"
   ]
  },
  {
   "cell_type": "code",
   "execution_count": 4,
   "metadata": {
    "tags": []
   },
   "outputs": [
    {
     "name": "stdout",
     "output_type": "stream",
     "text": [
      "/workspace/SAFETY/dataset\n"
     ]
    }
   ],
   "source": [
    "path = Path(\"dataset\").absolute()\n",
    "os.chdir(path)\n",
    "print(os.getcwd())"
   ]
  },
  {
   "cell_type": "code",
   "execution_count": 3,
   "metadata": {},
   "outputs": [],
   "source": [
    "def init_data_dict(data_dict, tactic_id, y_int):\n",
    "    num_squads = 12\n",
    "    num_entities = 54\n",
    "    \n",
    "    data_dict[tactic_id] = {}\n",
    "\n",
    "    num_combats = y_int['combat_id'].nunique()\n",
    "    \n",
    "    for combat_id in range(num_combats):\n",
    "        data_dict[tactic_id][combat_id] = {}\n",
    "        data_dict[tactic_id][combat_id]['squad_id'] = {}\n",
    "        data_dict[tactic_id][combat_id]['entity_id'] = {}\n",
    "\n",
    "        for squad in range(num_squads):\n",
    "            \n",
    "            data_dict[tactic_id][combat_id]['squad_id'][squad] = {}\n",
    "\n",
    "        for entity in range(num_entities):\n",
    "            \n",
    "            data_dict[tactic_id][combat_id]['entity_id'][entity] = {}\n",
    "\n",
    "    return data_dict\n"
   ]
  },
  {
   "cell_type": "code",
   "execution_count": 4,
   "metadata": {},
   "outputs": [],
   "source": [
    "def generate_feat(xs, data_dict, tactic_id):\n",
    "\n",
    "    window_size = 1\n",
    "    \n",
    "    xs['SimulationTime(sec)'] = xs['SimulationTime(sec)'] // window_size\n",
    "    xs = xs.groupby(['tactic_id', 'combat_id', 'entity_id', 'SimulationTime(sec)']).mean().reset_index()\n",
    "    \n",
    "    entity_feat = xs.drop(['tactic_id', 'combat_id', 'entity_id'], axis=1)\n",
    "\n",
    "    combat_ids = xs['combat_id'].unique()\n",
    "\n",
    "    combat_ids = [int(x) for x in combat_ids]\n",
    "\n",
    "    for combat_id in combat_ids:\n",
    "        \n",
    "        entity_ids = xs['entity_id'][xs['combat_id'] == combat_id].unique()\n",
    "        entity_ids = [int(x) for x in entity_ids]\n",
    "\n",
    "        for entity_id in entity_ids:\n",
    "            x = entity_feat[(xs['combat_id'] == combat_id) & (xs['entity_id'] == entity_id)]\n",
    "            x = x[['PositionLat(deg)', 'PositionLon(deg)', 'PositionAlt(m)', 'AttitudeYaw(deg)', 'Speed(km/h)', 'ForceIdentifier', 'T_Road', 'T_Forest','T_OpenLane','T_HidingPlace','T_Building']]\n",
    "\n",
    "            data_dict[tactic_id][combat_id]['entity_id'][entity_id]['x'] = x.values\n",
    "            \n",
    "    return data_dict\n"
   ]
  },
  {
   "cell_type": "code",
   "execution_count": 5,
   "metadata": {},
   "outputs": [],
   "source": [
    "def entity_squad_mapping(x_squad, data_dict, tactic_id):\n",
    "    squad_id_mapper = -56 # squad_id starts from 56\n",
    "    x_squad['squad_id'] = x_squad['squad_id'] + squad_id_mapper\n",
    "\n",
    "    subordinates = x_squad['SubordinateID'].values\n",
    "    entity_id_mapper = -2 # entity_id starts from 2\n",
    "\n",
    "    for i in range(len(subordinates)):\n",
    "        subordinates[i] = subordinates[i].replace('[', '')\n",
    "        subordinates[i] = subordinates[i].replace(']', '')\n",
    "        subordinates[i] = subordinates[i].split(';')\n",
    "        subordinates[i] = [int(j) + entity_id_mapper for j in subordinates[i]]\n",
    "\n",
    "    x_squad = x_squad[x_squad['SimulationTime(sec)'] < 10]\n",
    "\n",
    "    combat_ids = x_squad['combat_id'].unique()\n",
    "    combat_ids = [int(x) for x in combat_ids]\n",
    "\n",
    "    for combat_id in combat_ids:\n",
    "\n",
    "        x_squad_combat = x_squad[x_squad['combat_id'] == combat_id]\n",
    "        subord_entity_ids = x_squad_combat['SubordinateID'].values\n",
    "        for subord_entity_id in subord_entity_ids:\n",
    "            idx = subord_entity_ids.tolist().index(subord_entity_id)\n",
    "            squad_id = x_squad_combat['squad_id'].values[idx]\n",
    "            for entity_id in subord_entity_id:\n",
    "                data_dict[tactic_id][combat_id]['entity_id'][entity_id]['squad'] = squad_id\n",
    "\n",
    "    return data_dict\n"
   ]
  },
  {
   "cell_type": "code",
   "execution_count": 6,
   "metadata": {},
   "outputs": [],
   "source": [
    "def generate_intention_label(y_int, data_dict, tactic_id):\n",
    "\n",
    "    squad_id_mapper = -56 # squad_id starts from 56\n",
    "    num_squad_labels = 6 #len(np.unique(y_int['Intention'].values))\n",
    "\n",
    "    combat_ids = y_int['combat_id'].unique()\n",
    "    combat_ids = [int(x) for x in combat_ids]\n",
    "    \n",
    "    for combat_id in combat_ids:\n",
    "\n",
    "        y_int_combat = y_int[y_int['combat_id'] == combat_id]\n",
    "        squad_ids = np.unique(y_int_combat['ID'].values) + squad_id_mapper\n",
    "        label = y_int_combat['Intention'].values\n",
    "        squad_label_pair = list(zip(squad_ids, label))\n",
    "        \n",
    "        for i, (squad_id, label) in enumerate(squad_label_pair):\n",
    "            squad_label = np.zeros((num_squad_labels))\n",
    "            \n",
    "            if label == 'Tactical Engagement': squad_label[0] = 1\n",
    "            if label == 'Maneuvering Techniques': squad_label[1] = 1\n",
    "            if label == 'Stategic Positioning': squad_label[2] = 1\n",
    "            if label == 'Coordinated Rendezvous': squad_label[3] = 1\n",
    "            if label == 'Stategic Surprise': squad_label[4] = 1\n",
    "            if label == 'Forceful Engagement': squad_label[5] = 1\n",
    "\n",
    "            data_dict[tactic_id][combat_id]['squad_id'][squad_id]['y_int'] = squad_label\n",
    "        \n",
    "    return data_dict\n"
   ]
  },
  {
   "cell_type": "code",
   "execution_count": 7,
   "metadata": {},
   "outputs": [],
   "source": [
    "def generate_attack_label(y_atk, data_dict, tactic_id):\n",
    "\n",
    "    combat_ids = y_atk['combat_id'].unique()\n",
    "    combat_ids = [int(x) for x in combat_ids]\n",
    "\n",
    "    for combat_id in combat_ids:\n",
    "\n",
    "        y_atk_combat =  y_atk[y_atk['combat_id'] == combat_id].copy()\n",
    "\n",
    "        # zero index entity_id\n",
    "        y_atk_combat['FiringObjectID'] = y_atk_combat['FiringObjectID'] - 2\n",
    "        y_atk_combat['TargetObjectID'] = y_atk_combat['TargetObjectID'] - 2\n",
    "\n",
    "        # map entity_id to squad_id\n",
    "        y_atk_combat['FiringSquadID'] = y_atk_combat['FiringObjectID'].apply(lambda x: data_dict[tactic_id][combat_id]['entity_id'][x]['squad'])\n",
    "        y_atk_combat['TargetSquadID'] = y_atk_combat['TargetObjectID'].apply(lambda x: data_dict[tactic_id][combat_id]['entity_id'][x]['squad'])\n",
    "        \n",
    "        # remove duplicate firing target pairs\n",
    "        y_atk_combat = y_atk_combat.drop_duplicates(subset=['FiringSquadID', 'TargetSquadID'], keep='first')\n",
    "        squad_id_attacks = y_atk_combat['FiringSquadID'].values\n",
    "        squad_id_targets = y_atk_combat['TargetSquadID'].values\n",
    "\n",
    "        # one hot encoding attack target pairs\n",
    "        num_squads = 12\n",
    "        squad_id_target_one_hot = np.zeros((num_squads, num_squads))\n",
    "        squad_id_target_one_hot[squad_id_attacks, squad_id_targets] = 1\n",
    "        \n",
    "        # assign attack labels to each squad_id\n",
    "        for j in range(len(squad_id_target_one_hot)):\n",
    "            data_dict[tactic_id][combat_id]['squad_id'][j]['y_atk'] = squad_id_target_one_hot[j]\n",
    "    \n",
    "    return data_dict\n"
   ]
  },
  {
   "cell_type": "code",
   "execution_count": 31,
   "metadata": {},
   "outputs": [
    {
     "name": "stdout",
     "output_type": "stream",
     "text": [
      "processing tactic 0\n",
      "processing tactic 1\n",
      "processing tactic 2\n",
      "processing tactic 3\n"
     ]
    }
   ],
   "source": [
    "tactic_paths = [x for x in path.iterdir() if x.is_dir()]\n",
    "tactic_paths.sort()\n",
    "\n",
    "data_dict = {}\n",
    "\n",
    "for tactic in range(len(tactic_paths)):\n",
    "\n",
    "    tactic_id = int(tactic_paths[tactic].name) - 1\n",
    "    print('processing tactic {}'.format(tactic_id))\n",
    "\n",
    "    entity_attributes_path = tactic_paths[tactic] / \"EntityAttributes_All.csv\"\n",
    "    xs = pd.read_csv(entity_attributes_path, engine='c')\n",
    "    \n",
    "    squad_attributes_path = tactic_paths[tactic] / \"SquadAttributes_All.csv\"\n",
    "    x_squad = pd.read_csv(squad_attributes_path, engine='c')\n",
    "\n",
    "    y_int_path = tactic_paths[tactic] / \"SquadIntention_All.csv\"\n",
    "    y_int = pd.read_csv(y_int_path, engine='c')\n",
    "\n",
    "    y_attack_path = tactic_paths[tactic] / \"MunitionDetonation_All.csv\"\n",
    "    y_attack = pd.read_csv(y_attack_path, engine='c')\n",
    "\n",
    "    data_dict = init_data_dict(data_dict, tactic_id, y_int)\n",
    "    data_dict = generate_feat(xs, data_dict, tactic_id)\n",
    "    data_dict = generate_intention_label(y_int, data_dict, tactic_id)\n",
    "    data_dict = entity_squad_mapping(x_squad, data_dict, tactic_id)\n",
    "    data_dict = generate_attack_label(y_attack, data_dict, tactic_id)    \n"
   ]
  },
  {
   "cell_type": "code",
   "execution_count": 32,
   "metadata": {},
   "outputs": [],
   "source": [
    "# save data_dict\n",
    "with open('data_dict.pkl', 'wb') as f:\n",
    "   pickle.dump(data_dict, f)\n",
    "\n",
    "# zip file and save\n",
    "with zipfile.ZipFile('data_dict.zip', 'w', zipfile.ZIP_DEFLATED) as zipf:\n",
    "    zipf.write('data_dict.pkl')"
   ]
  }
 ],
 "metadata": {
  "kernelspec": {
   "display_name": "Python 3 (ipykernel)",
   "language": "python",
   "name": "python3"
  },
  "language_info": {
   "codemirror_mode": {
    "name": "ipython",
    "version": 3
   },
   "file_extension": ".py",
   "mimetype": "text/x-python",
   "name": "python",
   "nbconvert_exporter": "python",
   "pygments_lexer": "ipython3",
   "version": "3.7.13"
  }
 },
 "nbformat": 4,
 "nbformat_minor": 4
}
